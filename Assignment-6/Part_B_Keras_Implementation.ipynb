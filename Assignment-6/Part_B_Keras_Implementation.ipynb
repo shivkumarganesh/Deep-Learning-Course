{
  "nbformat": 4,
  "nbformat_minor": 0,
  "metadata": {
    "colab": {
      "name": "Part B Keras Implementation.ipynb",
      "provenance": [],
      "toc_visible": true,
      "authorship_tag": "ABX9TyO8nE2ikRVY9E+TGkkKsA9n",
      "include_colab_link": true
    },
    "kernelspec": {
      "name": "python3",
      "display_name": "Python 3"
    },
    "language_info": {
      "name": "python"
    }
  },
  "cells": [
    {
      "cell_type": "markdown",
      "metadata": {
        "id": "view-in-github",
        "colab_type": "text"
      },
      "source": [
        "<a href=\"https://colab.research.google.com/github/shivkumarganesh/Deep-Learning-Course/blob/main/Assignment-6/Part_B_Keras_Implementation.ipynb\" target=\"_parent\"><img src=\"https://colab.research.google.com/assets/colab-badge.svg\" alt=\"Open In Colab\"/></a>"
      ]
    },
    {
      "cell_type": "code",
      "metadata": {
        "colab": {
          "base_uri": "https://localhost:8080/"
        },
        "id": "vbLSZ_UGGE9s",
        "outputId": "5658156c-5e69-48ee-9a20-0d496915b4cd"
      },
      "source": [
        "try:\n",
        "  import colab\n",
        "  !pip install --upgrade pip\n",
        "except:\n",
        "  pass"
      ],
      "execution_count": 15,
      "outputs": [
        {
          "output_type": "stream",
          "text": [
            "\u001b[33mWARNING: Value for scheme.platlib does not match. Please report this to <https://github.com/pypa/pip/issues/9617>\n",
            "distutils: /usr/local/lib/python3.7/dist-packages\n",
            "sysconfig: /usr/lib/python3.7/site-packages\u001b[0m\n",
            "\u001b[33mWARNING: Value for scheme.purelib does not match. Please report this to <https://github.com/pypa/pip/issues/9617>\n",
            "distutils: /usr/local/lib/python3.7/dist-packages\n",
            "sysconfig: /usr/lib/python3.7/site-packages\u001b[0m\n",
            "\u001b[33mWARNING: Value for scheme.headers does not match. Please report this to <https://github.com/pypa/pip/issues/9617>\n",
            "distutils: /usr/local/include/python3.7/UNKNOWN\n",
            "sysconfig: /usr/include/python3.7m\u001b[0m\n",
            "\u001b[33mWARNING: Value for scheme.scripts does not match. Please report this to <https://github.com/pypa/pip/issues/9617>\n",
            "distutils: /usr/local/bin\n",
            "sysconfig: /usr/bin\u001b[0m\n",
            "\u001b[33mWARNING: Value for scheme.data does not match. Please report this to <https://github.com/pypa/pip/issues/9617>\n",
            "distutils: /usr/local\n",
            "sysconfig: /usr\u001b[0m\n",
            "\u001b[33mWARNING: Additional context:\n",
            "user = False\n",
            "home = None\n",
            "root = None\n",
            "prefix = None\u001b[0m\n",
            "Requirement already satisfied: pip in /usr/local/lib/python3.7/dist-packages (21.1)\n",
            "\u001b[33mWARNING: Value for scheme.platlib does not match. Please report this to <https://github.com/pypa/pip/issues/9617>\n",
            "distutils: /usr/local/lib/python3.7/dist-packages\n",
            "sysconfig: /usr/lib/python3.7/site-packages\u001b[0m\n",
            "\u001b[33mWARNING: Value for scheme.purelib does not match. Please report this to <https://github.com/pypa/pip/issues/9617>\n",
            "distutils: /usr/local/lib/python3.7/dist-packages\n",
            "sysconfig: /usr/lib/python3.7/site-packages\u001b[0m\n",
            "\u001b[33mWARNING: Value for scheme.headers does not match. Please report this to <https://github.com/pypa/pip/issues/9617>\n",
            "distutils: /usr/local/include/python3.7/UNKNOWN\n",
            "sysconfig: /usr/include/python3.7m\u001b[0m\n",
            "\u001b[33mWARNING: Value for scheme.scripts does not match. Please report this to <https://github.com/pypa/pip/issues/9617>\n",
            "distutils: /usr/local/bin\n",
            "sysconfig: /usr/bin\u001b[0m\n",
            "\u001b[33mWARNING: Value for scheme.data does not match. Please report this to <https://github.com/pypa/pip/issues/9617>\n",
            "distutils: /usr/local\n",
            "sysconfig: /usr\u001b[0m\n",
            "\u001b[33mWARNING: Additional context:\n",
            "user = False\n",
            "home = None\n",
            "root = None\n",
            "prefix = None\u001b[0m\n",
            "\u001b[33mWARNING: Running pip as root will break packages and permissions. You should install packages reliably by using venv: https://pip.pypa.io/warnings/venv\u001b[0m\n"
          ],
          "name": "stdout"
        }
      ]
    },
    {
      "cell_type": "markdown",
      "metadata": {
        "id": "82ZAA2h5EHaw"
      },
      "source": [
        "# Keras Multiple Image Classification"
      ]
    },
    {
      "cell_type": "code",
      "metadata": {
        "colab": {
          "base_uri": "https://localhost:8080/"
        },
        "id": "sp3GFJoAEFqk",
        "outputId": "f9e61a23-50b9-40a4-9ca0-8c9348edd9ac"
      },
      "source": [
        "import tensorflow as tf\n",
        "from tensorflow.keras.models import Sequential\n",
        "from tensorflow.keras.layers import Dense, Conv2D, MaxPooling2D, Flatten\n",
        "import numpy as np\n",
        "import matplotlib.pyplot as plt\n",
        "import pandas as pd\n",
        "import zipfile\n",
        "from google.colab import files\n",
        "print(tf.__version__)"
      ],
      "execution_count": 16,
      "outputs": [
        {
          "output_type": "stream",
          "text": [
            "2.4.1\n"
          ],
          "name": "stdout"
        }
      ]
    },
    {
      "cell_type": "code",
      "metadata": {
        "colab": {
          "base_uri": "https://localhost:8080/"
        },
        "id": "kNmiZoOMGa-j",
        "outputId": "8ffccc8c-ecf5-48c6-8646-4b564e577eca"
      },
      "source": [
        "!ls"
      ],
      "execution_count": 17,
      "outputs": [
        {
          "output_type": "stream",
          "text": [
            "sample_data\n"
          ],
          "name": "stdout"
        }
      ]
    },
    {
      "cell_type": "code",
      "metadata": {
        "colab": {
          "resources": {
            "http://localhost:8080/nbextensions/google.colab/files.js": {
              "data": "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",
              "ok": true,
              "headers": [
                [
                  "content-type",
                  "application/javascript"
                ]
              ],
              "status": 200,
              "status_text": ""
            }
          },
          "base_uri": "https://localhost:8080/",
          "height": 89
        },
        "id": "d6G46jSuENOx",
        "outputId": "b404e398-bcb6-477f-cbe3-c269858748a0"
      },
      "source": [
        "files.upload()\n",
        "!mkdir ~/.kaggle\n",
        "!cp kaggle.json ~/.kaggle/\n",
        "!chmod 600 ~/.kaggle/kaggle.json"
      ],
      "execution_count": 18,
      "outputs": [
        {
          "output_type": "display_data",
          "data": {
            "text/html": [
              "\n",
              "     <input type=\"file\" id=\"files-d097426e-8282-4860-a875-102cbcb94e40\" name=\"files[]\" multiple disabled\n",
              "        style=\"border:none\" />\n",
              "     <output id=\"result-d097426e-8282-4860-a875-102cbcb94e40\">\n",
              "      Upload widget is only available when the cell has been executed in the\n",
              "      current browser session. Please rerun this cell to enable.\n",
              "      </output>\n",
              "      <script src=\"/nbextensions/google.colab/files.js\"></script> "
            ],
            "text/plain": [
              "<IPython.core.display.HTML object>"
            ]
          },
          "metadata": {
            "tags": []
          }
        },
        {
          "output_type": "stream",
          "text": [
            "Saving kaggle.json to kaggle.json\n",
            "mkdir: cannot create directory ‘/root/.kaggle’: File exists\n"
          ],
          "name": "stdout"
        }
      ]
    },
    {
      "cell_type": "code",
      "metadata": {
        "colab": {
          "base_uri": "https://localhost:8080/"
        },
        "id": "13u0s0S5FYTL",
        "outputId": "3d05c3d4-0341-4074-edcd-f03a6f69a349"
      },
      "source": [
        "!kaggle competitions download -c dog-breed-identification"
      ],
      "execution_count": 19,
      "outputs": [
        {
          "output_type": "stream",
          "text": [
            "Warning: Looks like you're using an outdated API Version, please consider updating (server 1.5.12 / client 1.5.4)\n",
            "Downloading 0012a730dfa437f5f3613fb75efcd4ce.jpg to /content\n",
            "  0% 0.00/52.5k [00:00<?, ?B/s]\n",
            "100% 52.5k/52.5k [00:00<00:00, 20.2MB/s]\n",
            "Downloading 005b281f1a4d6f29d527c9585e9bd33c.jpg to /content\n",
            "  0% 0.00/17.6k [00:00<?, ?B/s]\n",
            "100% 17.6k/17.6k [00:00<00:00, 28.8MB/s]\n",
            "Downloading 005b6c6c76fefd6b458ef6fb6e54da6e.jpg to /content\n",
            "  0% 0.00/18.3k [00:00<?, ?B/s]\n",
            "100% 18.3k/18.3k [00:00<00:00, 18.2MB/s]\n",
            "Downloading 00559f56aab7e0a7749220f6aed65162.jpg to /content\n",
            "  0% 0.00/20.2k [00:00<?, ?B/s]\n",
            "100% 20.2k/20.2k [00:00<00:00, 20.0MB/s]\n",
            "Downloading 004bf14426d1a830d459a9e0c0721309.jpg to /content\n",
            "  0% 0.00/34.1k [00:00<?, ?B/s]\n",
            "100% 34.1k/34.1k [00:00<00:00, 33.2MB/s]\n",
            "Downloading 004c3721eb88358f462cdcec6b2380b7.jpg to /content\n",
            "  0% 0.00/48.5k [00:00<?, ?B/s]\n",
            "100% 48.5k/48.5k [00:00<00:00, 50.3MB/s]\n",
            "Downloading 0042d6bf3e5f3700865886db32689436.jpg to /content\n",
            "  0% 0.00/4.27k [00:00<?, ?B/s]\n",
            "100% 4.27k/4.27k [00:00<00:00, 7.49MB/s]\n",
            "Downloading 00485d47de966a9437ad3b33ac193b6f.jpg to /content\n",
            "  0% 0.00/53.7k [00:00<?, ?B/s]\n",
            "100% 53.7k/53.7k [00:00<00:00, 49.5MB/s]\n",
            "Downloading 002c2a3117c2193b4d26400ce431eebd.jpg to /content\n",
            "  0% 0.00/32.3k [00:00<?, ?B/s]\n",
            "100% 32.3k/32.3k [00:00<00:00, 29.9MB/s]\n",
            "Downloading 001510bc8570bbeee98c8d80c8a95ec1.jpg to /content\n",
            "  0% 0.00/43.7k [00:00<?, ?B/s]\n",
            "100% 43.7k/43.7k [00:00<00:00, 41.6MB/s]\n",
            "Downloading 002f80396f1e3db687c5932d7978b196.jpg to /content\n",
            "  0% 0.00/66.5k [00:00<?, ?B/s]\n",
            "100% 66.5k/66.5k [00:00<00:00, 56.8MB/s]\n",
            "Downloading 00496f65de6cc319145ce97bd6e90360.jpg to /content\n",
            "  0% 0.00/24.6k [00:00<?, ?B/s]\n",
            "100% 24.6k/24.6k [00:00<00:00, 42.7MB/s]\n",
            "Downloading 001a5f3114548acdefa3d4da05474c2e.jpg to /content\n",
            "  0% 0.00/15.3k [00:00<?, ?B/s]\n",
            "100% 15.3k/15.3k [00:00<00:00, 15.2MB/s]\n",
            "Downloading 004476c96f575879af4af471af65cae8.jpg to /content\n",
            "  0% 0.00/25.0k [00:00<?, ?B/s]\n",
            "100% 25.0k/25.0k [00:00<00:00, 25.9MB/s]\n",
            "Downloading 0036c6bcec6031be9e62a257b1c3c442.jpg to /content\n",
            "  0% 0.00/68.1k [00:00<?, ?B/s]\n",
            "100% 68.1k/68.1k [00:00<00:00, 70.4MB/s]\n",
            "Downloading 0041940322116ae58c38130f5a6f71f9.jpg to /content\n",
            "  0% 0.00/35.9k [00:00<?, ?B/s]\n",
            "100% 35.9k/35.9k [00:00<00:00, 33.7MB/s]\n",
            "Downloading 000621fb3cbb32d8935728e48679680e.jpg to /content\n",
            "  0% 0.00/60.9k [00:00<?, ?B/s]\n",
            "100% 60.9k/60.9k [00:00<00:00, 85.4MB/s]\n",
            "Downloading 00102ee9d8eb90812350685311fe5890.jpg to /content\n",
            "  0% 0.00/28.4k [00:00<?, ?B/s]\n",
            "100% 28.4k/28.4k [00:00<00:00, 26.9MB/s]\n",
            "Downloading 002c58d413a521ae8d1a5daeb35fc803.jpg to /content\n",
            "  0% 0.00/11.4k [00:00<?, ?B/s]\n",
            "100% 11.4k/11.4k [00:00<00:00, 11.0MB/s]\n",
            "Downloading 00225dcd3e4d2410dd53239f95c0352f.jpg to /content\n",
            "  0% 0.00/6.71k [00:00<?, ?B/s]\n",
            "100% 6.71k/6.71k [00:00<00:00, 5.71MB/s]\n",
            "Downloading 003df8b8a8b05244b1d920bb6cf451f9.jpg to /content\n",
            "  0% 0.00/81.2k [00:00<?, ?B/s]\n",
            "100% 81.2k/81.2k [00:00<00:00, 26.3MB/s]\n",
            "Downloading 008887054b18ba3c7601792b6a453cc3.jpg to /content\n",
            "  0% 0.00/5.61k [00:00<?, ?B/s]\n",
            "100% 5.61k/5.61k [00:00<00:00, 4.74MB/s]\n",
            "Downloading 007ff9a78eba2aebb558afea3a51c469.jpg to /content\n",
            "  0% 0.00/30.1k [00:00<?, ?B/s]\n",
            "100% 30.1k/30.1k [00:00<00:00, 6.73MB/s]\n",
            "Downloading 0021f9ceb3235effd7fcde7f7538ed62.jpg to /content\n",
            "  0% 0.00/25.8k [00:00<?, ?B/s]\n",
            "100% 25.8k/25.8k [00:00<00:00, 27.5MB/s]\n",
            "Downloading 000bec180eb18c7604dcecc8fe0dba07.jpg to /content\n",
            "  0% 0.00/53.5k [00:00<?, ?B/s]\n",
            "100% 53.5k/53.5k [00:00<00:00, 52.1MB/s]\n",
            "Downloading 002a283a315af96eaea0e28e7163b21b.jpg to /content\n",
            "  0% 0.00/14.7k [00:00<?, ?B/s]\n",
            "100% 14.7k/14.7k [00:00<00:00, 15.2MB/s]\n",
            "Downloading 001513dfcb2ffafc82cccf4d8bbaba97.jpg to /content\n",
            "  0% 0.00/48.4k [00:00<?, ?B/s]\n",
            "100% 48.4k/48.4k [00:00<00:00, 49.8MB/s]\n",
            "Downloading 007b5a16db9d9ff9d7ad39982703e429.jpg to /content\n",
            "  0% 0.00/19.6k [00:00<?, ?B/s]\n",
            "100% 19.6k/19.6k [00:00<00:00, 25.6MB/s]\n",
            "Downloading 007b8a07882822475a4ce6581e70b1f8.jpg to /content\n",
            "  0% 0.00/27.8k [00:00<?, ?B/s]\n",
            "100% 27.8k/27.8k [00:00<00:00, 21.8MB/s]\n",
            "Downloading 00792e341f3c6eb33663e415d0715370.jpg to /content\n",
            "  0% 0.00/11.6k [00:00<?, ?B/s]\n",
            "100% 11.6k/11.6k [00:00<00:00, 11.4MB/s]\n",
            "Downloading 002211c81b498ef88e1b40b9abf84e1d.jpg to /content\n",
            "  0% 0.00/47.0k [00:00<?, ?B/s]\n",
            "100% 47.0k/47.0k [00:00<00:00, 91.0MB/s]\n",
            "Downloading 00693b8bc2470375cc744a6391d397ec.jpg to /content\n",
            "  0% 0.00/22.2k [00:00<?, ?B/s]\n",
            "100% 22.2k/22.2k [00:00<00:00, 22.3MB/s]\n",
            "Downloading 001cdf01b096e06d78e9e5112d419397.jpg to /content\n",
            "  0% 0.00/32.6k [00:00<?, ?B/s]\n",
            "100% 32.6k/32.6k [00:00<00:00, 27.4MB/s]\n",
            "Downloading 0067dc3eab0b3c3ef0439477624d85d6.jpg to /content\n",
            "  0% 0.00/40.1k [00:00<?, ?B/s]\n",
            "100% 40.1k/40.1k [00:00<00:00, 36.1MB/s]\n",
            "Downloading 00290d3e1fdd27226ba27a8ce248ce85.jpg to /content\n",
            "  0% 0.00/31.2k [00:00<?, ?B/s]\n",
            "100% 31.2k/31.2k [00:00<00:00, 42.9MB/s]\n",
            "Downloading 004396df1acd0f1247b740ca2b14616e.jpg to /content\n",
            "  0% 0.00/43.8k [00:00<?, ?B/s]\n",
            "100% 43.8k/43.8k [00:00<00:00, 39.0MB/s]\n",
            "Downloading 0075dc49dab4024d12fafe67074d8a81.jpg to /content\n",
            "  0% 0.00/34.4k [00:00<?, ?B/s]\n",
            "100% 34.4k/34.4k [00:00<00:00, 30.5MB/s]\n",
            "Downloading 006cc3ddb9dc1bd827479569fcdc52dc.jpg to /content\n",
            "  0% 0.00/12.8k [00:00<?, ?B/s]\n",
            "100% 12.8k/12.8k [00:00<00:00, 35.1MB/s]\n",
            "Downloading 0042188c895a2f14ef64a918ed9c7b64.jpg to /content\n",
            "  0% 0.00/31.4k [00:00<?, ?B/s]\n",
            "100% 31.4k/31.4k [00:00<00:00, 18.8MB/s]\n",
            "Downloading 00214f311d5d2247d5dfe4fe24b2303d.jpg to /content\n",
            "  0% 0.00/39.2k [00:00<?, ?B/s]\n",
            "100% 39.2k/39.2k [00:00<00:00, 40.8MB/s]\n",
            "Downloading labels.csv to /content\n",
            "  0% 0.00/471k [00:00<?, ?B/s]\n",
            "100% 471k/471k [00:00<00:00, 62.7MB/s]\n",
            "Downloading sample_submission.csv.zip to /content\n",
            "  0% 0.00/318k [00:00<?, ?B/s]\n",
            "100% 318k/318k [00:00<00:00, 103MB/s]\n"
          ],
          "name": "stdout"
        }
      ]
    },
    {
      "cell_type": "code",
      "metadata": {
        "colab": {
          "base_uri": "https://localhost:8080/"
        },
        "id": "H_mQemDJFkHg",
        "outputId": "34ca57d9-078a-4602-899d-765f08eef2c9"
      },
      "source": [
        "!ls"
      ],
      "execution_count": 20,
      "outputs": [
        {
          "output_type": "stream",
          "text": [
            "000621fb3cbb32d8935728e48679680e.jpg  004396df1acd0f1247b740ca2b14616e.jpg\n",
            "000bec180eb18c7604dcecc8fe0dba07.jpg  004476c96f575879af4af471af65cae8.jpg\n",
            "00102ee9d8eb90812350685311fe5890.jpg  00485d47de966a9437ad3b33ac193b6f.jpg\n",
            "0012a730dfa437f5f3613fb75efcd4ce.jpg  00496f65de6cc319145ce97bd6e90360.jpg\n",
            "001510bc8570bbeee98c8d80c8a95ec1.jpg  004bf14426d1a830d459a9e0c0721309.jpg\n",
            "001513dfcb2ffafc82cccf4d8bbaba97.jpg  004c3721eb88358f462cdcec6b2380b7.jpg\n",
            "001a5f3114548acdefa3d4da05474c2e.jpg  00559f56aab7e0a7749220f6aed65162.jpg\n",
            "001cdf01b096e06d78e9e5112d419397.jpg  005b281f1a4d6f29d527c9585e9bd33c.jpg\n",
            "00214f311d5d2247d5dfe4fe24b2303d.jpg  005b6c6c76fefd6b458ef6fb6e54da6e.jpg\n",
            "0021f9ceb3235effd7fcde7f7538ed62.jpg  0067dc3eab0b3c3ef0439477624d85d6.jpg\n",
            "002211c81b498ef88e1b40b9abf84e1d.jpg  00693b8bc2470375cc744a6391d397ec.jpg\n",
            "00225dcd3e4d2410dd53239f95c0352f.jpg  006cc3ddb9dc1bd827479569fcdc52dc.jpg\n",
            "00290d3e1fdd27226ba27a8ce248ce85.jpg  0075dc49dab4024d12fafe67074d8a81.jpg\n",
            "002a283a315af96eaea0e28e7163b21b.jpg  00792e341f3c6eb33663e415d0715370.jpg\n",
            "002c2a3117c2193b4d26400ce431eebd.jpg  007b5a16db9d9ff9d7ad39982703e429.jpg\n",
            "002c58d413a521ae8d1a5daeb35fc803.jpg  007b8a07882822475a4ce6581e70b1f8.jpg\n",
            "002f80396f1e3db687c5932d7978b196.jpg  007ff9a78eba2aebb558afea3a51c469.jpg\n",
            "0036c6bcec6031be9e62a257b1c3c442.jpg  008887054b18ba3c7601792b6a453cc3.jpg\n",
            "003df8b8a8b05244b1d920bb6cf451f9.jpg  kaggle.json\n",
            "0041940322116ae58c38130f5a6f71f9.jpg  labels.csv\n",
            "0042188c895a2f14ef64a918ed9c7b64.jpg  sample_data\n",
            "0042d6bf3e5f3700865886db32689436.jpg  sample_submission.csv.zip\n"
          ],
          "name": "stdout"
        }
      ]
    },
    {
      "cell_type": "code",
      "metadata": {
        "id": "4FHKK2mGG6ej"
      },
      "source": [
        ""
      ],
      "execution_count": null,
      "outputs": []
    }
  ]
}