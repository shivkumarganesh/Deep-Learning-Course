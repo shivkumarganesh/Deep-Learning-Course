{
  "nbformat": 4,
  "nbformat_minor": 0,
  "metadata": {
    "colab": {
      "name": "DL Assignment 4.ipynb",
      "provenance": [],
      "collapsed_sections": [
        "NLOnqsVi4_oe"
      ],
      "authorship_tag": "ABX9TyMX1xfU3/krmAM9f3+pJFhZ",
      "include_colab_link": true
    },
    "kernelspec": {
      "name": "python3",
      "display_name": "Python 3"
    },
    "language_info": {
      "name": "python"
    }
  },
  "cells": [
    {
      "cell_type": "markdown",
      "metadata": {
        "id": "view-in-github",
        "colab_type": "text"
      },
      "source": [
        "<a href=\"https://colab.research.google.com/github/shivkumarganesh/Deep-Learning-Course/blob/main/Assignment-1/DL_Assignment_4.ipynb\" target=\"_parent\"><img src=\"https://colab.research.google.com/assets/colab-badge.svg\" alt=\"Open In Colab\"/></a>"
      ]
    },
    {
      "cell_type": "markdown",
      "metadata": {
        "id": "Zvb47lPA4y3y"
      },
      "source": [
        "# Importing all the possile Packages for ML"
      ]
    },
    {
      "cell_type": "code",
      "metadata": {
        "id": "ksSiuX8t5RTV"
      },
      "source": [
        "import pandas as pd\n",
        "import matplotlib\n",
        "import imgaug as ia\n",
        "from keras.datasets import mnist\n",
        "from matplotlib import pyplot\n",
        "import sys\n",
        "import imageio\n",
        "import imgaug.augmenters as iaa\n",
        "import numpy as np\n",
        "import matplotlib.pyplot as plt\n",
        "import matplotlib.patches as patches\n",
        "import seaborn as sns\n",
        "from keras.datasets import mnist\n",
        "from keras.utils import np_utils\n",
        "from keras.models import Sequential\n",
        "from keras.layers.core import Flatten, Dense, Activation, Dropout, Reshape\n",
        "from tensorflow.keras.preprocessing.image import ImageDataGenerator\n",
        "from sklearn.metrics import mean_squared_error, accuracy_score\n",
        "import tensorflow as tf"
      ],
      "execution_count": 1,
      "outputs": []
    },
    {
      "cell_type": "markdown",
      "metadata": {
        "id": "NLOnqsVi4_oe"
      },
      "source": [
        "# Utility functions"
      ]
    },
    {
      "cell_type": "code",
      "metadata": {
        "id": "JpGe36VE6Fbc"
      },
      "source": [
        "# Plot the various Numbers\n",
        "def printData(X_train):\n",
        "  for i in range(0, 9):\n",
        "    pyplot.subplot(330 + 1 + i)\n",
        "    pyplot.imshow(X_train[i], cmap=pyplot.get_cmap('gray'))\n",
        "  pyplot.show()\n",
        "\n",
        "\n",
        "# Data augmentation using https://medium.com/@schatty/image-augmentation-in-numpy-the-spell-is-simple-but-quite-unbreakable-e1af57bb50fd\n",
        "def data_augmentation(dataset, dataset_labels, augementation_factor=1, use_noise=True, use_random_shear=True, use_random_shift=True, use_scaling=True):\n",
        "\taugmented_image = []\n",
        "\taugmented_image_labels = []\n",
        "\n",
        "\tfor num in range (0, dataset.shape[0]):\n",
        "\t\tfor i in range(0, augementation_factor):\n",
        "\t\t\ttransform_image=dataset[num]\n",
        "\t\t\tif use_noise:\n",
        "\t\t\t\ttransform_image=iaa.AdditiveGaussianNoise(10,20).augment_image(transform_image)\n",
        "\t\t\tif use_random_shear:\n",
        "\t\t\t\ttransform_image=iaa.Affine(shear=(0,40)).augment_image(transform_image)\n",
        "\t\t\tif use_scaling:\n",
        "\t\t\t\ttransform_image=iaa.Affine(scale={\"x\": (1.5, 1.0), \"y\": (1.5, 1.0)}).augment_image(transform_image)\n",
        "\t\t\taugmented_image_labels.append(dataset_labels[num])\n",
        "\t\t\taugmented_image.append(transform_image)\n",
        "\treturn np.array(augmented_image), np.array(augmented_image_labels)\n",
        " \n",
        " # Creation of Dropout mask\n",
        "def create_drpot_mask(num,percentage):\n",
        "  dCount=round((num/100)*percentage)\n",
        "  dIndex=np.random.permutation(num)[:dCount]\n",
        "  dMask=np.ones(num)\n",
        "  for index in dIndex:\n",
        "    dMask[index]=0\n",
        "  return dMask"
      ],
      "execution_count": 2,
      "outputs": []
    },
    {
      "cell_type": "markdown",
      "metadata": {
        "id": "qIf3I09z5qUA"
      },
      "source": [
        "# Data Load and Visualization"
      ]
    },
    {
      "cell_type": "markdown",
      "metadata": {
        "id": "qcMIlf-z5uwp"
      },
      "source": [
        "In this section we load the data from the mnist dataset and then try to visualize the various labels of data that is available."
      ]
    },
    {
      "cell_type": "code",
      "metadata": {
        "id": "LPXnulY85WyX"
      },
      "source": [
        "(X_train, y_train), (X_test, y_test) = mnist.load_data()"
      ],
      "execution_count": 3,
      "outputs": []
    },
    {
      "cell_type": "code",
      "metadata": {
        "colab": {
          "base_uri": "https://localhost:8080/",
          "height": 352
        },
        "id": "TUnGtz0y5ZcR",
        "outputId": "b8c95904-6c82-4a42-bf76-f40be3a77382"
      },
      "source": [
        "y_train_values = pd.DataFrame(y_train,columns=['label'])\n",
        "y_col= y_train_values['label']\n",
        "sns.countplot(y_col)"
      ],
      "execution_count": 4,
      "outputs": [
        {
          "output_type": "stream",
          "text": [
            "/usr/local/lib/python3.7/dist-packages/seaborn/_decorators.py:43: FutureWarning: Pass the following variable as a keyword arg: x. From version 0.12, the only valid positional argument will be `data`, and passing other arguments without an explicit keyword will result in an error or misinterpretation.\n",
            "  FutureWarning\n"
          ],
          "name": "stderr"
        },
        {
          "output_type": "execute_result",
          "data": {
            "text/plain": [
              "<matplotlib.axes._subplots.AxesSubplot at 0x7f381bd14c90>"
            ]
          },
          "metadata": {
            "tags": []
          },
          "execution_count": 4
        },
        {
          "output_type": "display_data",
          "data": {
            "image/png": "[encoded data removed]",
            "text/plain": [
              "<Figure size 432x288 with 1 Axes>"
            ]
          },
          "metadata": {
            "tags": [],
            "needs_background": "light"
          }
        }
      ]
    },
    {
      "cell_type": "markdown",
      "metadata": {
        "id": "zn-0cpyh54Uw"
      },
      "source": [
        "From the above we can see the various classigication of the data that is available in the mnist dataset.\n",
        "\n",
        "# Lets Inspect the data available"
      ]
    },
    {
      "cell_type": "code",
      "metadata": {
        "colab": {
          "base_uri": "https://localhost:8080/",
          "height": 268
        },
        "id": "3JoNhyPt5hCT",
        "outputId": "effa0eea-df75-4be3-f435-ecf3aaeeed88"
      },
      "source": [
        "printData(X_train)"
      ],
      "execution_count": 5,
      "outputs": [
        {
          "output_type": "display_data",
          "data": {
            "image/png": "[encoded data removed]",
            "text/plain": [
              "<Figure size 432x288 with 9 Axes>"
            ]
          },
          "metadata": {
            "tags": [],
            "needs_background": "light"
          }
        }
      ]
    },
    {
      "cell_type": "markdown",
      "metadata": {
        "id": "PH6wEYhK7GSE"
      },
      "source": [
        "# Now lets perform Data Augmentation for the above Dataset\n",
        "This part of the data Augmentation is just a sample data augmentation. Later in this assignment we will be using Keras for data Augmentation."
      ]
    },
    {
      "cell_type": "code",
      "metadata": {
        "id": "CY49jNMO6hI2"
      },
      "source": [
        "X_train_augmented,y_train_augmented=data_augmentation(X_train,y_train,1,True,True,True,True)"
      ],
      "execution_count": 6,
      "outputs": []
    },
    {
      "cell_type": "markdown",
      "metadata": {
        "id": "s5gLW7FX7VsW"
      },
      "source": [
        "Post augmentation we will go ahead and print this data out so as to see how it looks. There are various transformations applied for example AdditiveGaussianNoise and Affine function"
      ]
    },
    {
      "cell_type": "code",
      "metadata": {
        "colab": {
          "base_uri": "https://localhost:8080/",
          "height": 268
        },
        "id": "8McOxSyf7TbY",
        "outputId": "4efe7fbb-72c5-4b6d-a14e-6c1f528fd715"
      },
      "source": [
        "printData(X_train_augmented)"
      ],
      "execution_count": 7,
      "outputs": [
        {
          "output_type": "display_data",
          "data": {
            "image/png": "[encoded data removed]",
            "text/plain": [
              "<Figure size 432x288 with 9 Axes>"
            ]
          },
          "metadata": {
            "tags": [],
            "needs_background": "light"
          }
        }
      ]
    },
    {
      "cell_type": "markdown",
      "metadata": {
        "id": "wWhN-0-d9hYr"
      },
      "source": [
        "# Test Train Split the data\n",
        "In this section we will be splitting the data into Test-Train sets. These sets will respectively be used in order to generate the dataset."
      ]
    },
    {
      "cell_type": "code",
      "metadata": {
        "colab": {
          "base_uri": "https://localhost:8080/"
        },
        "id": "aRDsrm2m7lNW",
        "outputId": "115073c6-d3c6-449f-97dd-d7f94b0c3cd9"
      },
      "source": [
        "# X Train and Test\n",
        "X_train = X_train.reshape(X_train.shape[0], 28*28)\n",
        "X_test = X_test.reshape(X_test.shape[0], 28*28)\n",
        "\n",
        "# Y Train and Test\n",
        "Y_train = np_utils.to_categorical(y_train)\n",
        "Y_test = np_utils.to_categorical(y_test)\n",
        "num_classes = Y_test.shape[1]\n",
        "\n",
        "# Printing the values in order to understand the data\n",
        "print('X_train.shape:')\n",
        "print(X_train.shape)\n",
        "print('X_test.shape:')\n",
        "print(X_test.shape)\n",
        "print('Y_train.shape:')\n",
        "print(Y_train.shape)\n",
        "print('Y_test.shape:')\n",
        "print(Y_test.shape)\n"
      ],
      "execution_count": 8,
      "outputs": [
        {
          "output_type": "stream",
          "text": [
            "X_train.shape:\n",
            "(60000, 784)\n",
            "X_test.shape:\n",
            "(10000, 784)\n",
            "Y_train.shape:\n",
            "(60000, 10)\n",
            "Y_test.shape:\n",
            "(10000, 10)\n"
          ],
          "name": "stdout"
        }
      ]
    },
    {
      "cell_type": "markdown",
      "metadata": {
        "id": "ezVe52XO-Lnw"
      },
      "source": [
        "# Part 1  - Defining the Neural Net using Numpy"
      ]
    },
    {
      "cell_type": "markdown",
      "metadata": {
        "id": "WevuPQsE-Xz3"
      },
      "source": [
        "## Defining various layers Layers"
      ]
    },
    {
      "cell_type": "code",
      "metadata": {
        "id": "37AHtdVt-ZCE"
      },
      "source": [
        "class Layer:\n",
        "  def __init__(self, num_input_nodes=1, num_output_nodes=1, activation=None):\n",
        "    self.num_input_nodes = num_input_nodes\n",
        "    self.num_output_nodes = num_output_nodes\n",
        "    self.weights = 0.2 * np.random.random((num_input_nodes, num_output_nodes)) - 0.1\n",
        "    self.bias = 0.2 * np.random.rand((1)) - 0.1\n",
        "    self.X = np.zeros([num_input_nodes])\n",
        "\n",
        "    if activation == 'relu':\n",
        "      self.activation = Relu()\n",
        "    else: \n",
        "      self.activation = None\n",
        "  \n",
        "  def forward(self, X, dropout):\n",
        "    self.X = X.copy()\n",
        "\n",
        "    self.Z = X @ self.weights + self.bias\n",
        "    if self.activation == None:\n",
        "      return self.Z \n",
        "    else:\n",
        "      weights_dropout = np.random.binomial(1, dropout, size=self.Z.shape) / dropout\n",
        "      return self.activation.forward(self.Z) * weights_dropout\n",
        "\n",
        "  def predict(self, X):\n",
        "    if self.activation == None:\n",
        "      return X @ self.weights + self.bias \n",
        "    else:\n",
        "      return self.activation.predict(X @ self.weights + self.bias)\n",
        "\n",
        "  def backward(self, upstream_gradient):\n",
        "    curr_upstream_gradient = upstream_gradient.copy()\n",
        "    if self.activation != None:\n",
        "      curr_upstream_gradient = self.activation.backward(curr_upstream_gradient)\n",
        "\n",
        "    self.dJdW = self.X.T @ curr_upstream_gradient\n",
        "    self.dJdb = curr_upstream_gradient.sum()\n",
        "    self.dJdX = curr_upstream_gradient @ self.weights.T\n",
        "    return self.dJdX\n",
        "\n",
        "  def update(self, lr):\n",
        "    self.weights = self.weights - lr * self.dJdW\n",
        "    self.bias = self.bias - lr * self.dJdb\n",
        "\n",
        "  def __str__(self):\n",
        "    return 'Layer: ({},{}) Activation Function: {}'.format(self.num_input_nodes, self.num_output_nodes, self.activation)"
      ],
      "execution_count": 9,
      "outputs": []
    },
    {
      "cell_type": "markdown",
      "metadata": {
        "id": "lm0PD0Bl-jWR"
      },
      "source": [
        "## RELU Activitation Function Definition"
      ]
    },
    {
      "cell_type": "code",
      "metadata": {
        "id": "jJi1TUn0-kxy"
      },
      "source": [
        "class Relu:\n",
        "  def __init__(self):\n",
        "    self.input = np.array([])\n",
        "\n",
        "  def forward(self, input):\n",
        "    self.input = input.copy()\n",
        "    self.output = np.clip(self.input, 0, None)\n",
        "    return self.output\n",
        "  \n",
        "  def predict(self, input):\n",
        "    return np.clip(input, 0, None)\n",
        "  \n",
        "  def backward(self, upstream_gradient):\n",
        "    return (self.input > 0) * upstream_gradient\n",
        "\n",
        "  def update(self, lr):\n",
        "    return\n",
        "\n",
        "  def __str__(self):\n",
        "    return 'ReLu'"
      ],
      "execution_count": 10,
      "outputs": []
    },
    {
      "cell_type": "markdown",
      "metadata": {
        "id": "4rPJyJzr-rox"
      },
      "source": [
        "## Defining the Neural Net Model"
      ]
    },
    {
      "cell_type": "code",
      "metadata": {
        "id": "s-wyd_pf9lou"
      },
      "source": [
        "class NeuralModel:\n",
        "  def __init__(self, num_inputs=3, num_hidden=[2], num_outputs=2, activation=None):\n",
        "    self.num_inputs = num_inputs\n",
        "    self.num_hidden = num_hidden\n",
        "    self.num_outputs = num_outputs\n",
        "\n",
        "    layers = [self.num_inputs] + self.num_hidden + [self.num_outputs]\n",
        "    \n",
        "    self.layers = []\n",
        "    for i in range(len(layers[:-1])):\n",
        "      if i == len(layers[:-1]) - 1:\n",
        "        self.layers.append(Layer(layers[i], layers[i + 1], activation=None))\n",
        "      else:\n",
        "        self.layers.append(Layer(layers[i], layers[i + 1], activation))\n",
        "\n",
        "    for i, layer in enumerate(self.layers):\n",
        "      print('=== Layer {} ==='.format(i))\n",
        "      print(layer)\n",
        "    print()\n",
        "\n",
        "  def forward(self, inputs, dropout):\n",
        "    curr_out = inputs.copy()\n",
        "    for l in self.layers:\n",
        "      curr_out = l.forward(curr_out, dropout)\n",
        "    return curr_out\n",
        "  \n",
        "\n",
        "  def predict(self, inputs):\n",
        "    curr_out = inputs.copy()\n",
        "    for l in self.layers:\n",
        "      curr_out = l.predict(curr_out)\n",
        "    return curr_out\n",
        "  \n",
        "  def backward(self, y_pred, y_true):\n",
        "    mse = MSE(y_pred, y_true)\n",
        "    error = mse.get_error()\n",
        "    loss_gradient = mse.backward()\n",
        "\n",
        "    gradient = loss_gradient.copy()\n",
        "    for layer in reversed(self.layers):\n",
        "      gradient = layer.backward(gradient)\n",
        "    \n",
        "  def update(self, lr):\n",
        "    for layer in self.layers:\n",
        "      layer.update(lr)\n",
        "\n",
        "  def fit(self, datagen, X_train_augmented, X_train, y_train, X_test, y_test, epochs, batch_size, dropout):\n",
        "    train_errors = []\n",
        "    train_accuracies = [] \n",
        "    test_errors = [] \n",
        "    test_accuracies = []\n",
        "    for e in range(epochs):\n",
        "      batches = 0\n",
        "      for X_batch, y in datagen.flow(X_train_augmented, y_train, batch_size=batch_size):\n",
        "        X = X_batch.reshape(X_batch.shape[0], 28*28) / 255.\n",
        "        y_pred = self.forward(X, dropout)\n",
        "        self.backward(y_pred, y)\n",
        "        self.update(lr)\n",
        "\n",
        "        if batches >= len(X_train_augmented) / batch_size:\n",
        "          break\n",
        "        batches += 1\n",
        "\n",
        "      y_pred = self.predict(X_train)\n",
        "      train_error = mean_squared_error(y_train, y_pred)\n",
        "      train_errors.append(train_error)\n",
        "      train_accuracy = np.sum(np.argmax(y_pred, axis=1) == np.argmax(y_train, axis=1)) / len(y_train)\n",
        "      train_accuracies.append(train_accuracy)\n",
        "\n",
        "      y_pred = self.predict(X_test)\n",
        "      test_error = mean_squared_error(y_test, y_pred)\n",
        "      test_errors.append(test_error)\n",
        "      test_accuracy = np.sum(np.argmax(y_pred, axis=1) == np.argmax(y_test, axis=1)) / len(y_test)\n",
        "      test_accuracies.append(test_accuracy)\n",
        "      print('Epoch: {} Training Error: {} Training Accuracy: {} Validation Error: {} Validation Accuracy: {} '.format(e, round(train_error, 3), round(train_accuracy, 3), round(test_error, 3), round(test_accuracy, 3)))\n",
        "\n",
        "    return train_errors, train_accuracies, test_errors, test_accuracies\n",
        "\n",
        "  def __str__(self):\n",
        "    s = [str(layer) for layer in self.layers]\n",
        "    return '\\n'.join(s)\n"
      ],
      "execution_count": 11,
      "outputs": []
    },
    {
      "cell_type": "markdown",
      "metadata": {
        "id": "V9X8d-Fp-RHi"
      },
      "source": [
        "## Defining the mean squared error"
      ]
    },
    {
      "cell_type": "code",
      "metadata": {
        "id": "Eah2578B-Sj6"
      },
      "source": [
        "# MEAN SQUARED ERROR\n",
        "class MSE:\n",
        "  def __init__(self, y_pred, y_true):\n",
        "    self.y_pred = y_pred\n",
        "    self.y_true = y_true\n",
        "  \n",
        "  def get_error(self):\n",
        "    n = self.y_true.shape[0]\n",
        "    return ((self.y_pred - self.y_true) ** 2) / n\n",
        "  \n",
        "  def backward(self):\n",
        "    n = self.y_true.shape[0]\n",
        "    self.gradient = 2.0 * (self.y_pred - self.y_true) / n\n",
        "    return self.gradient\n"
      ],
      "execution_count": 12,
      "outputs": []
    },
    {
      "cell_type": "markdown",
      "metadata": {
        "id": "My8g0yOa_SPJ"
      },
      "source": [
        "## Hyper Parameters that we will be using for this particular exercise"
      ]
    },
    {
      "cell_type": "code",
      "metadata": {
        "colab": {
          "base_uri": "https://localhost:8080/"
        },
        "id": "8RKPYrYX_UNu",
        "outputId": "e46877a7-5c9e-47fc-824b-fb8ba2e751bf"
      },
      "source": [
        "lr = 0.01\n",
        "batch_size = 128\n",
        "epochs = 20\n",
        "dropout = 0.25\n",
        "hidden_layers = [128, 64]\n",
        "\n",
        "n_inputs = X_train.shape[1]\n",
        "n_outputs = Y_train.shape[1]\n",
        "print(n_inputs, n_outputs)"
      ],
      "execution_count": 13,
      "outputs": [
        {
          "output_type": "stream",
          "text": [
            "784 10\n"
          ],
          "name": "stdout"
        }
      ]
    },
    {
      "cell_type": "markdown",
      "metadata": {
        "id": "HeKxfyzw__OY"
      },
      "source": [
        "## Data Augmentation"
      ]
    },
    {
      "cell_type": "code",
      "metadata": {
        "id": "UficU2GPABKW"
      },
      "source": [
        "generated_data = ImageDataGenerator(\n",
        "  rotation_range=10\n",
        ")\n",
        "\n",
        "X_train_augmented = X_train.reshape(-1,28,28,1)"
      ],
      "execution_count": 14,
      "outputs": []
    },
    {
      "cell_type": "code",
      "metadata": {
        "colab": {
          "base_uri": "https://localhost:8080/"
        },
        "id": "pGnxNdVe_Up2",
        "outputId": "70d87b3a-c43f-4fd6-d441-71492060d4b7"
      },
      "source": [
        "# Create NeuralNet from implemented interface and train on MNIST dataset\n",
        "nn = NeuralModel(num_inputs=n_inputs, num_hidden=hidden_layers, num_outputs=n_outputs, activation='relu')\n",
        "train_errors, train_accuracies, test_errors, test_accuracies = nn.fit(generated_data, X_train_augmented, X_train, Y_train, X_test, Y_test, epochs, batch_size, dropout)"
      ],
      "execution_count": 15,
      "outputs": [
        {
          "output_type": "stream",
          "text": [
            "=== Layer 0 ===\n",
            "Layer: (784,128) Activation Function: ReLu\n",
            "=== Layer 1 ===\n",
            "Layer: (128,64) Activation Function: ReLu\n",
            "=== Layer 2 ===\n",
            "Layer: (64,10) Activation Function: None\n",
            "\n",
            "Epoch: 0 Training Error: 21.727 Training Accuracy: 0.558 Validation Error: 22.337 Validation Accuracy: 0.554 \n",
            "Epoch: 1 Training Error: 23.838 Training Accuracy: 0.566 Validation Error: 24.647 Validation Accuracy: 0.567 \n",
            "Epoch: 2 Training Error: 34.278 Training Accuracy: 0.38 Validation Error: 35.623 Validation Accuracy: 0.375 \n",
            "Epoch: 3 Training Error: 35.178 Training Accuracy: 0.489 Validation Error: 36.429 Validation Accuracy: 0.489 \n",
            "Epoch: 4 Training Error: 47.955 Training Accuracy: 0.414 Validation Error: 49.847 Validation Accuracy: 0.412 \n",
            "Epoch: 5 Training Error: 56.408 Training Accuracy: 0.425 Validation Error: 58.286 Validation Accuracy: 0.431 \n",
            "Epoch: 6 Training Error: 79.132 Training Accuracy: 0.449 Validation Error: 82.017 Validation Accuracy: 0.449 \n",
            "Epoch: 7 Training Error: 93.114 Training Accuracy: 0.434 Validation Error: 96.255 Validation Accuracy: 0.44 \n",
            "Epoch: 8 Training Error: 80.212 Training Accuracy: 0.501 Validation Error: 82.844 Validation Accuracy: 0.502 \n",
            "Epoch: 9 Training Error: 118.728 Training Accuracy: 0.448 Validation Error: 123.23 Validation Accuracy: 0.445 \n",
            "Epoch: 10 Training Error: 104.96 Training Accuracy: 0.552 Validation Error: 109.199 Validation Accuracy: 0.548 \n",
            "Epoch: 11 Training Error: 145.832 Training Accuracy: 0.502 Validation Error: 151.129 Validation Accuracy: 0.5 \n",
            "Epoch: 12 Training Error: 142.328 Training Accuracy: 0.451 Validation Error: 147.535 Validation Accuracy: 0.446 \n",
            "Epoch: 13 Training Error: 146.854 Training Accuracy: 0.49 Validation Error: 152.42 Validation Accuracy: 0.492 \n",
            "Epoch: 14 Training Error: 148.05 Training Accuracy: 0.474 Validation Error: 152.822 Validation Accuracy: 0.476 \n",
            "Epoch: 15 Training Error: 166.146 Training Accuracy: 0.558 Validation Error: 171.464 Validation Accuracy: 0.561 \n",
            "Epoch: 16 Training Error: 153.923 Training Accuracy: 0.49 Validation Error: 159.614 Validation Accuracy: 0.485 \n",
            "Epoch: 17 Training Error: 161.053 Training Accuracy: 0.544 Validation Error: 165.712 Validation Accuracy: 0.546 \n",
            "Epoch: 18 Training Error: 171.718 Training Accuracy: 0.55 Validation Error: 177.265 Validation Accuracy: 0.552 \n",
            "Epoch: 19 Training Error: 230.628 Training Accuracy: 0.474 Validation Error: 240.08 Validation Accuracy: 0.47 \n"
          ],
          "name": "stdout"
        }
      ]
    },
    {
      "cell_type": "markdown",
      "metadata": {
        "id": "96tp4D6yBA7-"
      },
      "source": [
        "# Part 2 - Defining the Neural Net using Keras"
      ]
    },
    {
      "cell_type": "markdown",
      "metadata": {
        "id": "MaXSd_yg7vXD"
      },
      "source": [
        "## Now we will do the same thing using Keras"
      ]
    },
    {
      "cell_type": "markdown",
      "metadata": {
        "id": "Eorkujfs7zsf"
      },
      "source": [
        "### Hyperparameter Definition"
      ]
    },
    {
      "cell_type": "code",
      "metadata": {
        "colab": {
          "base_uri": "https://localhost:8080/"
        },
        "id": "Lx2gX_dD_gBP",
        "outputId": "24243cdd-f5c2-4e03-905f-4388deb869bb"
      },
      "source": [
        "epochs = 100\n",
        "batch_size = 128\n",
        "learning_rate = 0.01\n",
        "\n",
        "input_dimensions = X_train.shape[1]\n",
        "no_of_classes = Y_train.shape[1]\n",
        "print(input_dimensions)\n",
        "print(no_of_classes)"
      ],
      "execution_count": 16,
      "outputs": [
        {
          "output_type": "stream",
          "text": [
            "784\n",
            "10\n"
          ],
          "name": "stdout"
        }
      ]
    },
    {
      "cell_type": "markdown",
      "metadata": {
        "id": "JyyyqVhUBO2B"
      },
      "source": [
        "## Data Augmentation\n",
        "\n",
        "We will be augmenting the data using ImageDataGenerator which will help us to rotate our image. We can also do orizontal and vertical flip."
      ]
    },
    {
      "cell_type": "code",
      "metadata": {
        "id": "x-iVTeVzBSBc"
      },
      "source": [
        "augmented_x_train = X_train.reshape(-1, 28, 28, 1)\n",
        "augmented_x_test = X_test.reshape(-1, 28, 28, 1)\n",
        "\n",
        "# Create image data generator to load images in batches\n",
        "data_gen = ImageDataGenerator()\n",
        "data_gen.fit(augmented_x_train)\n",
        "train_batches = data_gen.flow(augmented_x_train, Y_train, batch_size=batch_size)\n",
        "val_batches = data_gen.flow(augmented_x_test, Y_test, batch_size=batch_size)"
      ],
      "execution_count": 17,
      "outputs": []
    },
    {
      "cell_type": "markdown",
      "metadata": {
        "id": "bbuuTG5GBWe7"
      },
      "source": [
        "# Training Sequencial Models"
      ]
    },
    {
      "cell_type": "markdown",
      "metadata": {
        "id": "eGoVFQI78NUw"
      },
      "source": [
        "This is a simple Traning model using sequencial model using Keras."
      ]
    },
    {
      "cell_type": "code",
      "metadata": {
        "colab": {
          "base_uri": "https://localhost:8080/"
        },
        "id": "mejyNiAYBSu5",
        "outputId": "e4c876bd-90b0-4f23-a12b-a764f6064848"
      },
      "source": [
        "model = Sequential()\n",
        "model.add(Reshape((-1,), input_shape = (28, 28, 1)))\n",
        "model.add(Dense(28 * 28, activation='relu'))\n",
        "model.add(Dropout(0.45))\n",
        "model.add(Dense(512, activation='relu'))\n",
        "model.add(Dropout(0.45))\n",
        "model.add(Dense(128, activation='relu'))\n",
        "model.add(Dropout(0.45))\n",
        "\n",
        "model.add(Dense(10, activation='softmax'))\n",
        "\n",
        "model.compile(\n",
        "  optimizer=tf.keras.optimizers.SGD(learning_rate=learning_rate),\n",
        "  loss='categorical_crossentropy',\n",
        "  metrics=['accuracy']\n",
        ")\n",
        "\n",
        "history = model.fit(\n",
        "  train_batches, \n",
        "  steps_per_epoch=augmented_x_train.shape[0] // batch_size,\n",
        "  epochs=epochs, \n",
        "  validation_data=val_batches, \n",
        "  validation_steps=augmented_x_test.shape[0] // batch_size\n",
        ")"
      ],
      "execution_count": 18,
      "outputs": [
        {
          "output_type": "stream",
          "text": [
            "Epoch 1/100\n",
            "468/468 [==============================] - 10s 21ms/step - loss: nan - accuracy: 0.0993 - val_loss: nan - val_accuracy: 0.0980\n",
            "Epoch 2/100\n",
            "468/468 [==============================] - 9s 19ms/step - loss: nan - accuracy: 0.0972 - val_loss: nan - val_accuracy: 0.0979\n",
            "Epoch 3/100\n",
            "468/468 [==============================] - 9s 19ms/step - loss: nan - accuracy: 0.0971 - val_loss: nan - val_accuracy: 0.0982\n",
            "Epoch 4/100\n",
            "468/468 [==============================] - 9s 19ms/step - loss: nan - accuracy: 0.0976 - val_loss: nan - val_accuracy: 0.0980\n",
            "Epoch 5/100\n",
            "468/468 [==============================] - 9s 19ms/step - loss: nan - accuracy: 0.0968 - val_loss: nan - val_accuracy: 0.0980\n",
            "Epoch 6/100\n",
            "468/468 [==============================] - 9s 19ms/step - loss: nan - accuracy: 0.0986 - val_loss: nan - val_accuracy: 0.0980\n",
            "Epoch 7/100\n",
            "468/468 [==============================] - 9s 19ms/step - loss: nan - accuracy: 0.0980 - val_loss: nan - val_accuracy: 0.0981\n",
            "Epoch 8/100\n",
            "468/468 [==============================] - 9s 19ms/step - loss: nan - accuracy: 0.0987 - val_loss: nan - val_accuracy: 0.0982\n",
            "Epoch 9/100\n",
            "468/468 [==============================] - 9s 19ms/step - loss: nan - accuracy: 0.0982 - val_loss: nan - val_accuracy: 0.0979\n",
            "Epoch 10/100\n",
            "468/468 [==============================] - 9s 19ms/step - loss: nan - accuracy: 0.0983 - val_loss: nan - val_accuracy: 0.0980\n",
            "Epoch 11/100\n",
            "468/468 [==============================] - 9s 19ms/step - loss: nan - accuracy: 0.0969 - val_loss: nan - val_accuracy: 0.0982\n",
            "Epoch 12/100\n",
            "468/468 [==============================] - 9s 19ms/step - loss: nan - accuracy: 0.0994 - val_loss: nan - val_accuracy: 0.0980\n",
            "Epoch 13/100\n",
            "468/468 [==============================] - 9s 19ms/step - loss: nan - accuracy: 0.0988 - val_loss: nan - val_accuracy: 0.0980\n",
            "Epoch 14/100\n",
            "468/468 [==============================] - 9s 19ms/step - loss: nan - accuracy: 0.0988 - val_loss: nan - val_accuracy: 0.0979\n",
            "Epoch 15/100\n",
            "468/468 [==============================] - 9s 19ms/step - loss: nan - accuracy: 0.0979 - val_loss: nan - val_accuracy: 0.0980\n",
            "Epoch 16/100\n",
            "468/468 [==============================] - 9s 19ms/step - loss: nan - accuracy: 0.0997 - val_loss: nan - val_accuracy: 0.0980\n",
            "Epoch 17/100\n",
            "468/468 [==============================] - 9s 19ms/step - loss: nan - accuracy: 0.0997 - val_loss: nan - val_accuracy: 0.0982\n",
            "Epoch 18/100\n",
            "468/468 [==============================] - 9s 20ms/step - loss: nan - accuracy: 0.0982 - val_loss: nan - val_accuracy: 0.0981\n",
            "Epoch 19/100\n",
            "468/468 [==============================] - 9s 20ms/step - loss: nan - accuracy: 0.0983 - val_loss: nan - val_accuracy: 0.0979\n",
            "Epoch 20/100\n",
            "468/468 [==============================] - 9s 20ms/step - loss: nan - accuracy: 0.0988 - val_loss: nan - val_accuracy: 0.0980\n",
            "Epoch 21/100\n",
            "468/468 [==============================] - 9s 19ms/step - loss: nan - accuracy: 0.0975 - val_loss: nan - val_accuracy: 0.0980\n",
            "Epoch 22/100\n",
            "468/468 [==============================] - 9s 20ms/step - loss: nan - accuracy: 0.0978 - val_loss: nan - val_accuracy: 0.0981\n",
            "Epoch 23/100\n",
            "468/468 [==============================] - 9s 20ms/step - loss: nan - accuracy: 0.0980 - val_loss: nan - val_accuracy: 0.0981\n",
            "Epoch 24/100\n",
            "468/468 [==============================] - 9s 20ms/step - loss: nan - accuracy: 0.0989 - val_loss: nan - val_accuracy: 0.0981\n",
            "Epoch 25/100\n",
            "468/468 [==============================] - 9s 20ms/step - loss: nan - accuracy: 0.0998 - val_loss: nan - val_accuracy: 0.0979\n",
            "Epoch 26/100\n",
            "468/468 [==============================] - 9s 20ms/step - loss: nan - accuracy: 0.0982 - val_loss: nan - val_accuracy: 0.0979\n",
            "Epoch 27/100\n",
            "468/468 [==============================] - 9s 19ms/step - loss: nan - accuracy: 0.0994 - val_loss: nan - val_accuracy: 0.0982\n",
            "Epoch 28/100\n",
            "468/468 [==============================] - 9s 20ms/step - loss: nan - accuracy: 0.0980 - val_loss: nan - val_accuracy: 0.0980\n",
            "Epoch 29/100\n",
            "468/468 [==============================] - 9s 19ms/step - loss: nan - accuracy: 0.0988 - val_loss: nan - val_accuracy: 0.0982\n",
            "Epoch 30/100\n",
            "468/468 [==============================] - 9s 19ms/step - loss: nan - accuracy: 0.1004 - val_loss: nan - val_accuracy: 0.0979\n",
            "Epoch 31/100\n",
            "468/468 [==============================] - 9s 19ms/step - loss: nan - accuracy: 0.0978 - val_loss: nan - val_accuracy: 0.0982\n",
            "Epoch 32/100\n",
            "468/468 [==============================] - 9s 19ms/step - loss: nan - accuracy: 0.0995 - val_loss: nan - val_accuracy: 0.0981\n",
            "Epoch 33/100\n",
            "468/468 [==============================] - 9s 19ms/step - loss: nan - accuracy: 0.0976 - val_loss: nan - val_accuracy: 0.0982\n",
            "Epoch 34/100\n",
            "468/468 [==============================] - 9s 19ms/step - loss: nan - accuracy: 0.0977 - val_loss: nan - val_accuracy: 0.0981\n",
            "Epoch 35/100\n",
            "468/468 [==============================] - 9s 19ms/step - loss: nan - accuracy: 0.1001 - val_loss: nan - val_accuracy: 0.0981\n",
            "Epoch 36/100\n",
            "468/468 [==============================] - 9s 19ms/step - loss: nan - accuracy: 0.0993 - val_loss: nan - val_accuracy: 0.0981\n",
            "Epoch 37/100\n",
            "468/468 [==============================] - 9s 18ms/step - loss: nan - accuracy: 0.0980 - val_loss: nan - val_accuracy: 0.0981\n",
            "Epoch 38/100\n",
            "468/468 [==============================] - 9s 20ms/step - loss: nan - accuracy: 0.0989 - val_loss: nan - val_accuracy: 0.0980\n",
            "Epoch 39/100\n",
            "468/468 [==============================] - 9s 20ms/step - loss: nan - accuracy: 0.0990 - val_loss: nan - val_accuracy: 0.0981\n",
            "Epoch 40/100\n",
            "468/468 [==============================] - 9s 20ms/step - loss: nan - accuracy: 0.0979 - val_loss: nan - val_accuracy: 0.0981\n",
            "Epoch 41/100\n",
            "468/468 [==============================] - 9s 19ms/step - loss: nan - accuracy: 0.0987 - val_loss: nan - val_accuracy: 0.0982\n",
            "Epoch 42/100\n",
            "468/468 [==============================] - 9s 19ms/step - loss: nan - accuracy: 0.0975 - val_loss: nan - val_accuracy: 0.0980\n",
            "Epoch 43/100\n",
            "468/468 [==============================] - 9s 19ms/step - loss: nan - accuracy: 0.1001 - val_loss: nan - val_accuracy: 0.0980\n",
            "Epoch 44/100\n",
            "468/468 [==============================] - 9s 19ms/step - loss: nan - accuracy: 0.0977 - val_loss: nan - val_accuracy: 0.0981\n",
            "Epoch 45/100\n",
            "468/468 [==============================] - 9s 20ms/step - loss: nan - accuracy: 0.0987 - val_loss: nan - val_accuracy: 0.0980\n",
            "Epoch 46/100\n",
            "468/468 [==============================] - 9s 19ms/step - loss: nan - accuracy: 0.0977 - val_loss: nan - val_accuracy: 0.0982\n",
            "Epoch 47/100\n",
            "468/468 [==============================] - 9s 19ms/step - loss: nan - accuracy: 0.0985 - val_loss: nan - val_accuracy: 0.0981\n",
            "Epoch 48/100\n",
            "468/468 [==============================] - 9s 20ms/step - loss: nan - accuracy: 0.0976 - val_loss: nan - val_accuracy: 0.0980\n",
            "Epoch 49/100\n",
            "468/468 [==============================] - 9s 19ms/step - loss: nan - accuracy: 0.1000 - val_loss: nan - val_accuracy: 0.0979\n",
            "Epoch 50/100\n",
            "468/468 [==============================] - 9s 19ms/step - loss: nan - accuracy: 0.1004 - val_loss: nan - val_accuracy: 0.0981\n",
            "Epoch 51/100\n",
            "468/468 [==============================] - 9s 20ms/step - loss: nan - accuracy: 0.0991 - val_loss: nan - val_accuracy: 0.0980\n",
            "Epoch 52/100\n",
            "468/468 [==============================] - 9s 20ms/step - loss: nan - accuracy: 0.0993 - val_loss: nan - val_accuracy: 0.0981\n",
            "Epoch 53/100\n",
            "468/468 [==============================] - 9s 20ms/step - loss: nan - accuracy: 0.1010 - val_loss: nan - val_accuracy: 0.0980\n",
            "Epoch 54/100\n",
            "468/468 [==============================] - 9s 19ms/step - loss: nan - accuracy: 0.1007 - val_loss: nan - val_accuracy: 0.0980\n",
            "Epoch 55/100\n",
            "468/468 [==============================] - 9s 19ms/step - loss: nan - accuracy: 0.0976 - val_loss: nan - val_accuracy: 0.0981\n",
            "Epoch 56/100\n",
            "468/468 [==============================] - 9s 19ms/step - loss: nan - accuracy: 0.0984 - val_loss: nan - val_accuracy: 0.0980\n",
            "Epoch 57/100\n",
            "468/468 [==============================] - 9s 19ms/step - loss: nan - accuracy: 0.0995 - val_loss: nan - val_accuracy: 0.0982\n",
            "Epoch 58/100\n",
            "468/468 [==============================] - 9s 20ms/step - loss: nan - accuracy: 0.0973 - val_loss: nan - val_accuracy: 0.0982\n",
            "Epoch 59/100\n",
            "468/468 [==============================] - 9s 20ms/step - loss: nan - accuracy: 0.0994 - val_loss: nan - val_accuracy: 0.0981\n",
            "Epoch 60/100\n",
            "468/468 [==============================] - 9s 20ms/step - loss: nan - accuracy: 0.0983 - val_loss: nan - val_accuracy: 0.0980\n",
            "Epoch 61/100\n",
            "468/468 [==============================] - 9s 19ms/step - loss: nan - accuracy: 0.0991 - val_loss: nan - val_accuracy: 0.0981\n",
            "Epoch 62/100\n",
            "468/468 [==============================] - 9s 20ms/step - loss: nan - accuracy: 0.0976 - val_loss: nan - val_accuracy: 0.0980\n",
            "Epoch 63/100\n",
            "468/468 [==============================] - 9s 19ms/step - loss: nan - accuracy: 0.0995 - val_loss: nan - val_accuracy: 0.0981\n",
            "Epoch 64/100\n",
            "468/468 [==============================] - 9s 19ms/step - loss: nan - accuracy: 0.0973 - val_loss: nan - val_accuracy: 0.0980\n",
            "Epoch 65/100\n",
            "468/468 [==============================] - 9s 19ms/step - loss: nan - accuracy: 0.0983 - val_loss: nan - val_accuracy: 0.0982\n",
            "Epoch 66/100\n",
            "468/468 [==============================] - 9s 19ms/step - loss: nan - accuracy: 0.1009 - val_loss: nan - val_accuracy: 0.0980\n",
            "Epoch 67/100\n",
            "468/468 [==============================] - 9s 19ms/step - loss: nan - accuracy: 0.0980 - val_loss: nan - val_accuracy: 0.0981\n",
            "Epoch 68/100\n",
            "468/468 [==============================] - 9s 19ms/step - loss: nan - accuracy: 0.0982 - val_loss: nan - val_accuracy: 0.0979\n",
            "Epoch 69/100\n",
            "468/468 [==============================] - 9s 19ms/step - loss: nan - accuracy: 0.0979 - val_loss: nan - val_accuracy: 0.0980\n",
            "Epoch 70/100\n",
            "468/468 [==============================] - 9s 19ms/step - loss: nan - accuracy: 0.0998 - val_loss: nan - val_accuracy: 0.0980\n",
            "Epoch 71/100\n",
            "468/468 [==============================] - 9s 19ms/step - loss: nan - accuracy: 0.0999 - val_loss: nan - val_accuracy: 0.0980\n",
            "Epoch 72/100\n",
            "468/468 [==============================] - 9s 19ms/step - loss: nan - accuracy: 0.1011 - val_loss: nan - val_accuracy: 0.0981\n",
            "Epoch 73/100\n",
            "468/468 [==============================] - 9s 19ms/step - loss: nan - accuracy: 0.1010 - val_loss: nan - val_accuracy: 0.0982\n",
            "Epoch 74/100\n",
            "468/468 [==============================] - 9s 19ms/step - loss: nan - accuracy: 0.0988 - val_loss: nan - val_accuracy: 0.0980\n",
            "Epoch 75/100\n",
            "468/468 [==============================] - 9s 19ms/step - loss: nan - accuracy: 0.0993 - val_loss: nan - val_accuracy: 0.0981\n",
            "Epoch 76/100\n",
            "468/468 [==============================] - 9s 19ms/step - loss: nan - accuracy: 0.0990 - val_loss: nan - val_accuracy: 0.0981\n",
            "Epoch 77/100\n",
            "468/468 [==============================] - 9s 20ms/step - loss: nan - accuracy: 0.1001 - val_loss: nan - val_accuracy: 0.0978\n",
            "Epoch 78/100\n",
            "468/468 [==============================] - 9s 20ms/step - loss: nan - accuracy: 0.1002 - val_loss: nan - val_accuracy: 0.0982\n",
            "Epoch 79/100\n",
            "468/468 [==============================] - 9s 20ms/step - loss: nan - accuracy: 0.0962 - val_loss: nan - val_accuracy: 0.0982\n",
            "Epoch 80/100\n",
            "468/468 [==============================] - 9s 19ms/step - loss: nan - accuracy: 0.0973 - val_loss: nan - val_accuracy: 0.0981\n",
            "Epoch 81/100\n",
            "468/468 [==============================] - 9s 19ms/step - loss: nan - accuracy: 0.0981 - val_loss: nan - val_accuracy: 0.0981\n",
            "Epoch 82/100\n",
            "468/468 [==============================] - 9s 20ms/step - loss: nan - accuracy: 0.0981 - val_loss: nan - val_accuracy: 0.0982\n",
            "Epoch 83/100\n",
            "468/468 [==============================] - 9s 20ms/step - loss: nan - accuracy: 0.0976 - val_loss: nan - val_accuracy: 0.0980\n",
            "Epoch 84/100\n",
            "468/468 [==============================] - 9s 20ms/step - loss: nan - accuracy: 0.0999 - val_loss: nan - val_accuracy: 0.0981\n",
            "Epoch 85/100\n",
            "468/468 [==============================] - 9s 20ms/step - loss: nan - accuracy: 0.1000 - val_loss: nan - val_accuracy: 0.0980\n",
            "Epoch 86/100\n",
            "468/468 [==============================] - 9s 20ms/step - loss: nan - accuracy: 0.0988 - val_loss: nan - val_accuracy: 0.0981\n",
            "Epoch 87/100\n",
            "468/468 [==============================] - 9s 20ms/step - loss: nan - accuracy: 0.0976 - val_loss: nan - val_accuracy: 0.0982\n",
            "Epoch 88/100\n",
            "468/468 [==============================] - 9s 20ms/step - loss: nan - accuracy: 0.0977 - val_loss: nan - val_accuracy: 0.0981\n",
            "Epoch 89/100\n",
            "468/468 [==============================] - 9s 19ms/step - loss: nan - accuracy: 0.0980 - val_loss: nan - val_accuracy: 0.0980\n",
            "Epoch 90/100\n",
            "468/468 [==============================] - 9s 20ms/step - loss: nan - accuracy: 0.0981 - val_loss: nan - val_accuracy: 0.0982\n",
            "Epoch 91/100\n",
            "468/468 [==============================] - 9s 19ms/step - loss: nan - accuracy: 0.1000 - val_loss: nan - val_accuracy: 0.0981\n",
            "Epoch 92/100\n",
            "468/468 [==============================] - 9s 19ms/step - loss: nan - accuracy: 0.0980 - val_loss: nan - val_accuracy: 0.0980\n",
            "Epoch 93/100\n",
            "468/468 [==============================] - 9s 19ms/step - loss: nan - accuracy: 0.1003 - val_loss: nan - val_accuracy: 0.0979\n",
            "Epoch 94/100\n",
            "468/468 [==============================] - 9s 20ms/step - loss: nan - accuracy: 0.0989 - val_loss: nan - val_accuracy: 0.0979\n",
            "Epoch 95/100\n",
            "468/468 [==============================] - 9s 19ms/step - loss: nan - accuracy: 0.0977 - val_loss: nan - val_accuracy: 0.0981\n",
            "Epoch 96/100\n",
            "468/468 [==============================] - 9s 19ms/step - loss: nan - accuracy: 0.0981 - val_loss: nan - val_accuracy: 0.0979\n",
            "Epoch 97/100\n",
            "468/468 [==============================] - 9s 20ms/step - loss: nan - accuracy: 0.1009 - val_loss: nan - val_accuracy: 0.0981\n",
            "Epoch 98/100\n",
            "468/468 [==============================] - 9s 20ms/step - loss: nan - accuracy: 0.0984 - val_loss: nan - val_accuracy: 0.0980\n",
            "Epoch 99/100\n",
            "468/468 [==============================] - 9s 20ms/step - loss: nan - accuracy: 0.0990 - val_loss: nan - val_accuracy: 0.0981\n",
            "Epoch 100/100\n",
            "468/468 [==============================] - 9s 20ms/step - loss: nan - accuracy: 0.0984 - val_loss: nan - val_accuracy: 0.0980\n"
          ],
          "name": "stdout"
        }
      ]
    }
  ]
}